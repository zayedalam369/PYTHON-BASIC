{
  "nbformat": 4,
  "nbformat_minor": 0,
  "metadata": {
    "colab": {
      "provenance": []
    },
    "kernelspec": {
      "name": "python3",
      "display_name": "Python 3"
    },
    "language_info": {
      "name": "python"
    }
  },
  "cells": [
    {
      "cell_type": "markdown",
      "source": [
        "1.What is Python, and why is it popular?\n",
        "- Python is a high-level, general-purpose programming language known for its readability and simplicity. It was created by Guido van Rossum and first released in 1991. Python supports multiple programming paradigms, including object-oriented, procedural, and functional programming.\n",
        "-Ease of Learning\n",
        "-Open Source\n",
        "-Integration\n",
        "-Growing Demand\n",
        "-Versatility\n",
        "-Productivity\n",
        "\n",
        "2.What is an interpreter in Python?\n",
        "- An interpreter in Python is a program that executes Python code line by line. It takes Python source code, translates it into an intermediate form called bytecode, and then executes it directly. Unlike compiled languages, which translate the entire code into machine language before execution, Python's interpreter performs this task dynamically during runtime.\n",
        "\n",
        "3.What are pre-defined keywords in Python?\n",
        "- Keywords in Python are reserved words that have specific meanings and purposes. They are part of the Python syntax and cannot be used as identifiers (e.g., variable or function names). These keywords help define the structure and behavior of Python programs.\n",
        "\n",
        "4.Can keywords be used as variable names?\n",
        "- No, keywords cannot be used as variable names in Python. Since keywords have predefined meanings and serve specific roles in the language's syntax, using them as variable names would cause a syntax error.\n",
        "\n",
        "5. What is mutability in Python?\n",
        "- Mutable Objects:\n",
        "\n",
        "Their content or state can be modified after creation.\n",
        "Examples:\n",
        "- Lists: You can add, remove, or modify elements.\n",
        "- Dictionaries: You can add or update key-value pairs.\n",
        "- Sets: You can add or remove elements.\n",
        "\n",
        "6. Why are lists mutable, but tuples are immutable?\n",
        "-  Lists: Mutable by Design\n",
        "- Purpose: Lists are designed for collections of items that may change over time. You might need to add, remove, or update elements frequently.\n",
        "- Tuples: Immutable by Design\n",
        "- Purpose: Tuples are meant to represent fixed collections of items, where the structure and content are not expected to change. This immutability ensures data integrity.\n",
        "\n",
        "7. What is the difference between “==” and “is” operators in Python?\n",
        "-\n",
        "==\n",
        "The equality operator compares the values of two operands. If the values are equal, the condition is true.\n",
        "is\n",
        "The identity operator checks if two variables point to the same object in memory. If the variables point to the same object, the condition is true.\n",
        "\n",
        "8. What are logical operators in Python?\n",
        "- Logical operators in Python are used to combine or manipulate conditional statements and expressions. They evaluate one or more conditions and return a Boolean value (True or False) as the result.\n",
        "\n",
        "9.  What is type casting in Python?\n",
        "- Type casting in Python refers to converting a variable or value from one data type to another. It is a way to explicitly or implicitly change the type of a value to make it compatible with a specific operation or to meet certain requirements.\n",
        "- type of type casting are\n",
        "- int(): Converts to an integer.\n",
        "float(): Converts to a floating-point number.\n",
        "str(): Converts to a string.\n",
        "list(): Converts to a list.\n",
        "tuple(): Converts to a tuple.\n",
        "set(): Converts to a set.\n",
        "bool(): Converts to a Boolean.\n",
        "\n",
        "10.  What is the difference between implicit and explicit type casting?\n",
        "- Implicit type casting\n",
        "Automatically converts a smaller data type to a larger one. For example, in JavaScript, implicit type conversion happens when a value is automatically converted to a different data type based on the context.\n",
        "- Explicit type casting\n",
        "Manually converts a larger data type to a smaller one. For example, in JavaScript, explicit type conversion happens when a programmer uses a built-in function or method to tell JavaScript to convert a value to a specific data type.\n",
        "\n",
        "11. What is the purpose of conditional statements in Python?\n",
        "- Conditional statements in Python allow you to execute specific blocks of code based on whether a given condition is True or False. They are used to introduce decision-making capabilities into a program, enabling dynamic and flexible behavior.\n",
        "\n",
        "12. How does the elif statement work?\n",
        "- The elif (short for \"else if\") statement in Python is used to check multiple conditions in a sequence. It allows you to evaluate several expressions and execute different blocks of code depending on which condition is true. If the condition associated with the if statement is False, the program will check the conditions in the elif clauses (if any) in order, until one of them is True. If none of the elif conditions are true, the else block (if present) will execute.\n",
        "\n",
        "13. What is the difference between for and while loops?\n",
        "- The for loop is used when you know how many times you want to execute a block of code. It iterates over a sequence (like a list, tuple, string, or range) and executes the code for each item in that sequence.\n",
        "- The while loop is used when you want to repeat a block of code as long as a certain condition remains True. You don’t necessarily know the number of iterations in advance, but the loop will continue until the condition becomes False.\n",
        "\n",
        "14. Describe a scenario where a while loop is more suitable than a for loop.\n",
        "- Scenario: Waiting for User Input Until a Valid Response is Given\n",
        "A while loop is more suitable in cases where you want to repeat an action until a certain condition changes, and you don't know in advance how many iterations will be required.\n",
        "\n",
        "Example Scenario: Password Validation\n",
        "Imagine a program that prompts the user to enter a password. The program will keep asking the user for a valid password (i.e., one that meets specific criteria) until the user enters it correctly. Since we don't know how many attempts the user will need, a while loop is ideal here.\n",
        "- Explanation:\n",
        "The program will keep prompting the user to enter the password until the correct password is entered.\n",
        "The while loop runs as long as the condition (user_password != correct_password) is True.\n",
        "Since we don't know how many times the user will need to try, the while loop is more suitable than a for loop, which requires a predefined number of iterations or a sequence to iterate over.\n",
        "Why a while Loop is More Suitable:\n",
        "The number of iterations is unknown: The user could enter the password correctly on the first try or after several attempts, so a for loop wouldn't be appropriate here since it requires a known number of iterations.\n",
        "The loop continues based on a condition (password correctness), which fits the while loop's design of repeating until a condition changes.\n",
        "\n"
      ],
      "metadata": {
        "id": "d0y06q8m54NO"
      }
    },
    {
      "cell_type": "code",
      "source": [
        "#Practical Questions\n",
        "#1 . Write a Python program to print \"Hello, World!\".\n",
        "print(\"Hello, World !\")\n"
      ],
      "metadata": {
        "colab": {
          "base_uri": "https://localhost:8080/"
        },
        "id": "U47z5a00_IeW",
        "outputId": "e4d8bb96-2444-433b-9f2a-f510e5481fc7"
      },
      "execution_count": 7,
      "outputs": [
        {
          "output_type": "stream",
          "name": "stdout",
          "text": [
            "Hello, World !\n"
          ]
        }
      ]
    },
    {
      "cell_type": "code",
      "source": [
        "#2. Write a Python program that displays your name and age.\n",
        "name=\"MD ZAYED ALAM\"\n",
        "age=20\n",
        "print(name)\n",
        "print(age)"
      ],
      "metadata": {
        "colab": {
          "base_uri": "https://localhost:8080/"
        },
        "id": "kprv9sRI_tvq",
        "outputId": "693ef9e4-8760-42a5-e1e4-97dca3079aef"
      },
      "execution_count": 8,
      "outputs": [
        {
          "output_type": "stream",
          "name": "stdout",
          "text": [
            "MD ZAYED ALAM\n",
            "20\n"
          ]
        }
      ]
    },
    {
      "cell_type": "code",
      "source": [
        "#3. Write code to print all the pre-defined keywords in Python using the keyword library.\n",
        "import keyword\n",
        "print(\"List of Python keywords:\")\n",
        "print(keyword.kwlist)"
      ],
      "metadata": {
        "colab": {
          "base_uri": "https://localhost:8080/"
        },
        "id": "qQlEHz5fAPqO",
        "outputId": "67704544-91da-407a-e6dd-64468f96b9f7"
      },
      "execution_count": 9,
      "outputs": [
        {
          "output_type": "stream",
          "name": "stdout",
          "text": [
            "List of Python keywords:\n",
            "['False', 'None', 'True', 'and', 'as', 'assert', 'async', 'await', 'break', 'class', 'continue', 'def', 'del', 'elif', 'else', 'except', 'finally', 'for', 'from', 'global', 'if', 'import', 'in', 'is', 'lambda', 'nonlocal', 'not', 'or', 'pass', 'raise', 'return', 'try', 'while', 'with', 'yield']\n"
          ]
        }
      ]
    },
    {
      "cell_type": "code",
      "source": [
        "#4.Write a program that checks if a given word is a Python keyword.\n",
        "# Importing the keyword module\n",
        "import keyword\n",
        "\n",
        "# Taking user input\n",
        "word = input(\"Enter a word to check if it's a Python keyword: \")\n",
        "\n",
        "# Checking if the word is a Python keyword\n",
        "if keyword.iskeyword(word):\n",
        "    print(f\"'{word}' is a Python keyword.\")\n",
        "else:\n",
        "    print(f\"'{word}' is not a Python keyword.\")"
      ],
      "metadata": {
        "colab": {
          "base_uri": "https://localhost:8080/"
        },
        "id": "DSVUqkHzAoyP",
        "outputId": "ab908d02-9821-49b3-90d4-ebbee0aa54c8"
      },
      "execution_count": 10,
      "outputs": [
        {
          "output_type": "stream",
          "name": "stdout",
          "text": [
            "Enter a word to check if it's a Python keyword: true\n",
            "'true' is not a Python keyword.\n"
          ]
        }
      ]
    },
    {
      "cell_type": "code",
      "source": [
        "#5.Create a list and tuple in Python, and demonstrate how attempting to change an element works differently for each.\n",
        "# Creating a list and a tuple\n",
        "my_list = [10, 20, 30, 40]\n",
        "my_tuple = (10, 20, 30, 40)\n",
        "\n",
        "# Modifying an element in the list (works fine because lists are mutable)\n",
        "print(\"Original list:\", my_list)\n",
        "my_list[2] = 99  # Changing the third element (index 2)\n",
        "print(\"Modified list:\", my_list)\n",
        "\n",
        "# Attempting to modify an element in the tuple (raises an error because tuples are immutable)\n",
        "print(\"\\nOriginal tuple:\", my_tuple)\n",
        "try:\n",
        "    my_tuple[2] = 99  # Trying to change the third element (index 2)\n",
        "except TypeError as e:\n",
        "    print(f\"Error: {e}\")"
      ],
      "metadata": {
        "colab": {
          "base_uri": "https://localhost:8080/"
        },
        "id": "oN7llcjYBJHM",
        "outputId": "f1adab90-d628-4bd7-df33-02c3c144b8f8"
      },
      "execution_count": 12,
      "outputs": [
        {
          "output_type": "stream",
          "name": "stdout",
          "text": [
            "Original list: [10, 20, 30, 40]\n",
            "Modified list: [10, 20, 99, 40]\n",
            "\n",
            "Original tuple: (10, 20, 30, 40)\n",
            "Error: 'tuple' object does not support item assignment\n"
          ]
        }
      ]
    },
    {
      "cell_type": "code",
      "source": [
        "#6.Write a function to demonstrate the behavior of mutable and immutable arguments.\n",
        "def modify_arguments(mutable_arg, immutable_arg):\n",
        "    # Modify the mutable argument\n",
        "    mutable_arg.append(100)\n",
        "\n",
        "    # Modify the immutable argument (does not affect the original)\n",
        "    immutable_arg += 10\n",
        "\n",
        "# Test with a list (mutable) and an integer (immutable)\n",
        "my_list = [1, 2, 3]\n",
        "my_int = 5\n",
        "\n",
        "modify_arguments(my_list, my_int)\n",
        "\n",
        "# Print results\n",
        "print(\"Modified list:\", my_list)  # List will be modified\n",
        "print(\"Modified integer:\", my_int)  # Integer will not be modified\n"
      ],
      "metadata": {
        "colab": {
          "base_uri": "https://localhost:8080/"
        },
        "id": "jB_x17oVB-c_",
        "outputId": "f99ac22e-d884-4a8d-ed87-ca57f91e1c52"
      },
      "execution_count": 13,
      "outputs": [
        {
          "output_type": "stream",
          "name": "stdout",
          "text": [
            "Modified list: [1, 2, 3, 100]\n",
            "Modified integer: 5\n"
          ]
        }
      ]
    },
    {
      "cell_type": "code",
      "source": [
        "#7. Write a function to demonstrate the behavior of mutable and immutable arguments.\n",
        "def demonstrate_mutable_immutable(mutable_arg, immutable_arg):\n",
        "    # Modify the mutable argument (list)\n",
        "    mutable_arg.append(100)\n",
        "\n",
        "    # Modify the immutable argument (integer)\n",
        "    immutable_arg += 10\n",
        "\n",
        "    # Printing inside the function\n",
        "    print(\"Inside the function:\")\n",
        "    print(\"Mutable argument:\", mutable_arg)\n",
        "    print(\"Immutable argument:\", immutable_arg)\n",
        "\n",
        "# Test with a list (mutable) and an integer (immutable)\n",
        "my_list = [1, 2, 3]\n",
        "my_int = 5\n",
        "\n",
        "# Calling the function\n",
        "demonstrate_mutable_immutable(my_list, my_int)\n",
        "\n",
        "# Printing outside the function\n",
        "print(\"\\nOutside the function:\")\n",
        "print(\"Modified list:\", my_list)  # List will be modified\n",
        "print(\"Modified integer:\", my_int)  # Integer will not be modified\n"
      ],
      "metadata": {
        "colab": {
          "base_uri": "https://localhost:8080/"
        },
        "id": "x20sw-_cCZ0q",
        "outputId": "295dca07-ef99-41dd-c9c8-6e44e55057a3"
      },
      "execution_count": 14,
      "outputs": [
        {
          "output_type": "stream",
          "name": "stdout",
          "text": [
            "Inside the function:\n",
            "Mutable argument: [1, 2, 3, 100]\n",
            "Immutable argument: 15\n",
            "\n",
            "Outside the function:\n",
            "Modified list: [1, 2, 3, 100]\n",
            "Modified integer: 5\n"
          ]
        }
      ]
    },
    {
      "cell_type": "code",
      "source": [
        "#8. Write a program to demonstrate the use of logical operators.\n",
        "a=50\n",
        "b=5\n",
        "if a>5 and b<5:\n",
        "  print(\"it is true\")\n",
        "elif a>15 or b>6:\n",
        "  print(\"it is also true\")\n",
        "else : (\"its both are false then print this line.\")\n",
        "\n"
      ],
      "metadata": {
        "colab": {
          "base_uri": "https://localhost:8080/"
        },
        "id": "qUinKzCYCp_s",
        "outputId": "3665d6d7-7bf5-4189-ecef-6652d5f3e8e1"
      },
      "execution_count": 15,
      "outputs": [
        {
          "output_type": "stream",
          "name": "stdout",
          "text": [
            "it is also true\n"
          ]
        }
      ]
    },
    {
      "cell_type": "code",
      "source": [
        "#9.Write a Python program to convert user input from string to integer, float, and boolean types.\n",
        "name = \"50\"\n",
        "type(name)\n",
        "#string to integer\n",
        "name= int(\"50\")\n",
        "print(name)\n",
        "type(name)\n",
        "#strint to float\n",
        "name = float(\"50\")\n",
        "print(name)\n",
        "type(name)\n",
        "#string to boolean'\n",
        "name=bool(\"50\")\n",
        "print(name)\n",
        "type(name)"
      ],
      "metadata": {
        "colab": {
          "base_uri": "https://localhost:8080/"
        },
        "id": "TYnCS1qEEFNz",
        "outputId": "8b3b4a75-cc1c-41f6-cc21-7f62b1835767"
      },
      "execution_count": 21,
      "outputs": [
        {
          "output_type": "stream",
          "name": "stdout",
          "text": [
            "50\n",
            "50.0\n",
            "True\n"
          ]
        },
        {
          "output_type": "execute_result",
          "data": {
            "text/plain": [
              "bool"
            ]
          },
          "metadata": {},
          "execution_count": 21
        }
      ]
    },
    {
      "cell_type": "code",
      "source": [
        "#10. Write code to demonstrate type casting with list elements.\n",
        "# List with mixed data types\n",
        "mixed_list = ['1', '2', '3', '4']\n",
        "\n",
        "# Type casting: Converting string elements to integers\n",
        "int_list = [int(i) for i in mixed_list]\n",
        "\n",
        "# Type casting: Converting the integer elements back to strings\n",
        "str_list = [str(i) for i in int_list]\n",
        "\n",
        "# Display the results\n",
        "print(\"Original mixed list (strings):\", mixed_list)\n",
        "print(\"After casting to integers:\", int_list)\n",
        "print(\"After casting back to strings:\", str_list)\n",
        "\n"
      ],
      "metadata": {
        "colab": {
          "base_uri": "https://localhost:8080/"
        },
        "id": "Hd9HNFHBFcG7",
        "outputId": "d694908d-08ec-4dbf-fe23-a0f2f63be055"
      },
      "execution_count": 41,
      "outputs": [
        {
          "output_type": "stream",
          "name": "stdout",
          "text": [
            "Original mixed list (strings): ['1', '2', '3', '4']\n",
            "After casting to integers: [1, 2, 3, 4]\n",
            "After casting back to strings: ['1', '2', '3', '4']\n"
          ]
        }
      ]
    },
    {
      "cell_type": "code",
      "source": [
        "#11. Write a program that checks if a number is positive, negative, or zero.\n",
        "number=float(input(\"Enter the number : \"))\n",
        "if number < 0:\n",
        "  print(\"it is negative number\")\n",
        "elif number >0:\n",
        "  print(\"it is postive number\")\n",
        "else:\n",
        "  print(\"it is null or zero \")\n",
        "\n"
      ],
      "metadata": {
        "colab": {
          "base_uri": "https://localhost:8080/"
        },
        "id": "FStIMLJDIDno",
        "outputId": "8c8f6dc7-7ef8-44cd-bef7-f536d999714f"
      },
      "execution_count": 50,
      "outputs": [
        {
          "output_type": "stream",
          "name": "stdout",
          "text": [
            "Enter the number : -50\n",
            "it is negative number\n"
          ]
        }
      ]
    },
    {
      "cell_type": "code",
      "source": [
        "#12. Write a for loop to print numbers from 1 to 10.\n",
        "l=[1,2,3,4,5,6,7,8,9,10]\n",
        "for i in l:\n",
        "  print(i)\n",
        "\n"
      ],
      "metadata": {
        "colab": {
          "base_uri": "https://localhost:8080/"
        },
        "id": "tFZEtLHbKSF9",
        "outputId": "d4262929-c3a9-42c1-81a0-05a99810a08e"
      },
      "execution_count": 53,
      "outputs": [
        {
          "output_type": "stream",
          "name": "stdout",
          "text": [
            "1\n",
            "2\n",
            "3\n",
            "4\n",
            "5\n",
            "6\n",
            "7\n",
            "8\n",
            "9\n",
            "10\n"
          ]
        }
      ]
    },
    {
      "cell_type": "code",
      "source": [
        "#13.Write a Python program to find the sum of all even numbers between 1 and 50.\n",
        "a=0\n",
        "for i in range(1,51):\n",
        "  if i % 2 == 0:\n",
        "    a+=i\n",
        "    print(\"the sum of all even numbers between 1 and 51\",a)\n"
      ],
      "metadata": {
        "colab": {
          "base_uri": "https://localhost:8080/"
        },
        "id": "jto2TaMLJ7q8",
        "outputId": "b001c5fc-0260-487a-bbf6-f888d6a98b43"
      },
      "execution_count": 56,
      "outputs": [
        {
          "output_type": "stream",
          "name": "stdout",
          "text": [
            "the sum of all even numbers between 1 and 51 2\n",
            "the sum of all even numbers between 1 and 51 6\n",
            "the sum of all even numbers between 1 and 51 12\n",
            "the sum of all even numbers between 1 and 51 20\n",
            "the sum of all even numbers between 1 and 51 30\n",
            "the sum of all even numbers between 1 and 51 42\n",
            "the sum of all even numbers between 1 and 51 56\n",
            "the sum of all even numbers between 1 and 51 72\n",
            "the sum of all even numbers between 1 and 51 90\n",
            "the sum of all even numbers between 1 and 51 110\n",
            "the sum of all even numbers between 1 and 51 132\n",
            "the sum of all even numbers between 1 and 51 156\n",
            "the sum of all even numbers between 1 and 51 182\n",
            "the sum of all even numbers between 1 and 51 210\n",
            "the sum of all even numbers between 1 and 51 240\n",
            "the sum of all even numbers between 1 and 51 272\n",
            "the sum of all even numbers between 1 and 51 306\n",
            "the sum of all even numbers between 1 and 51 342\n",
            "the sum of all even numbers between 1 and 51 380\n",
            "the sum of all even numbers between 1 and 51 420\n",
            "the sum of all even numbers between 1 and 51 462\n",
            "the sum of all even numbers between 1 and 51 506\n",
            "the sum of all even numbers between 1 and 51 552\n",
            "the sum of all even numbers between 1 and 51 600\n",
            "the sum of all even numbers between 1 and 51 650\n"
          ]
        }
      ]
    },
    {
      "cell_type": "code",
      "source": [
        "#14. Write a program to reverse a string using a while loop.\n",
        "# Function to reverse a string using a while loop\n",
        "def reverse_string(input_string):\n",
        "    reversed_string = \"\"  # Initialize an empty string to store the reversed string\n",
        "    index = len(input_string) - 1  # Start from the last character of the string\n",
        "\n",
        "    # While loop to reverse the string\n",
        "    while index >= 0:\n",
        "        reversed_string += input_string[index]  # Add the character to the reversed string\n",
        "        index -= 1  # Move to the previous character\n",
        "\n",
        "    return reversed_string\n",
        "\n",
        "# Take user input\n",
        "user_input = input(\"Enter a string to reverse: \")\n",
        "\n",
        "# Reverse the string and print the result\n",
        "reversed_str = reverse_string(user_input)\n",
        "print(\"Reversed string:\", reversed_str)\n"
      ],
      "metadata": {
        "colab": {
          "base_uri": "https://localhost:8080/"
        },
        "id": "TuIpHnrdMqx9",
        "outputId": "d6cc82cb-29c3-4d2a-94ce-0295a7250cb8"
      },
      "execution_count": 57,
      "outputs": [
        {
          "output_type": "stream",
          "name": "stdout",
          "text": [
            "Enter a string to reverse: zayed\n",
            "Reversed string: deyaz\n"
          ]
        }
      ]
    },
    {
      "cell_type": "code",
      "source": [
        "#15.Write a Python program to calculate the factorial of a number provided by the user using a while loop.\n",
        "# Function to calculate factorial using a while loop\n",
        "def factorial(n):\n",
        "    result = 1  # Initialize result to 1, as factorial of 0 is 1\n",
        "    while n > 1:\n",
        "        result *= n  # Multiply result by the current number\n",
        "        n -= 1  # Decrease n by 1\n",
        "    return result\n",
        "\n",
        "# Taking input from the user\n",
        "number = int(input(\"Enter a number to calculate its factorial: \"))\n",
        "\n",
        "# Check if the number is negative (factorial is undefined for negative numbers)\n",
        "if number < 0:\n",
        "    print(\"Factorial is not defined for negative numbers.\")\n",
        "else:\n",
        "    # Calling the function and printing the result\n",
        "    print(f\"The factorial of {number} is {factorial(number)}\")\n"
      ],
      "metadata": {
        "colab": {
          "base_uri": "https://localhost:8080/"
        },
        "id": "DiplSFsSNEY5",
        "outputId": "41222081-f9b8-4f3b-8b9a-81ba65295587"
      },
      "execution_count": 58,
      "outputs": [
        {
          "output_type": "stream",
          "name": "stdout",
          "text": [
            "Enter a number to calculate its factorial: 6\n",
            "The factorial of 6 is 720\n"
          ]
        }
      ]
    }
  ]
}